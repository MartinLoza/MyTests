{
    "cells": [
        {
            "cell_type": "markdown",
            "metadata": {},
            "source": [
                "On this test I will project a vector into another. This can be useful to state points' relations. For example, on single-cell data we could use this projections to state relationships among cells.\n",
                "\n"
            ]
        },
        {
            "cell_type": "code",
            "execution_count": null,
            "metadata": {},
            "outputs": [],
            "source": [
                "library(plotly)\n",
                "\n"
            ]
        },
        {
            "cell_type": "markdown",
            "metadata": {},
            "source": [
                "First we create two random vectors\n",
                "\n"
            ]
        },
        {
            "cell_type": "code",
            "execution_count": null,
            "metadata": {},
            "outputs": [],
            "source": [
                "set.seed(777)\n",
                "v1 <- sample(1:10, size = 2)\n",
                "v2 <- sample(1:10, size = 2)\n",
                "\n",
                "lines <- matrix(c(0,0,v1, v2),nrow = 3, byrow = TRUE)\n",
                "\n",
                "plot(x = lines[,1], y = lines[,2], asp = 1)\n",
                "arrows(x0 = lines[1,1], y0 = lines[1,2], x1 = lines[2:3,1], y1 = lines[2:3,2], length = 0.2, col = c(1,3))\n"
            ]
        },
        {
            "cell_type": "markdown",
            "metadata": {},
            "source": [
                "Suppose we want to know the projection of v1 (black vector) into v2 (green vector). Following the wikipedia formula (https://en.wikipedia.org/wiki/Vector_projection), we first would like to obtain the unit vector of v2 (uV2). If we multiply v1 by uV2 we obtain the \"scalar\" (distance of the projection). Multiplying the scalar by the uV2 we obtain the projection of our vector. \n",
                "\n"
            ]
        },
        {
            "cell_type": "code",
            "execution_count": null,
            "metadata": {},
            "outputs": [],
            "source": [
                "nV2 <- norm(v2, type = \"2\")\n",
                "uV2 <- v2/nV2\n",
                "scalar <- v1 %*% uV2\n",
                "pV1_2 <- scalar*uV2\n"
            ]
        },
        {
            "cell_type": "markdown",
            "metadata": {},
            "source": [
                "Plotting the projected vector\n",
                "\n"
            ]
        },
        {
            "cell_type": "code",
            "execution_count": null,
            "metadata": {},
            "outputs": [],
            "source": [
                "lines <- matrix(c(0,0,v1, v2, pV1_2), nrow = 4, byrow = TRUE)\n",
                "\n",
                "plot(x = lines[,1], y = lines[,2], asp = 1)\n",
                "arrows(x0 = lines[1,1], y0 = lines[1,2], x1 = lines[2:4,1], y1 = lines[2:4,2], length = 0.2, col = c(1,3,1))\n"
            ]
        },
        {
            "cell_type": "markdown",
            "metadata": {},
            "source": [
                "\n",
                "\n"
            ]
        },
        {
            "cell_type": "code",
            "execution_count": null,
            "metadata": {},
            "outputs": [],
            "source": [
                "rmd2jupyter::rmd2jupyter(x = \"Vector projection_t1.Rmd\")\n",
                "\n"
            ]
        },
        {
            "cell_type": "markdown",
            "metadata": {},
            "source": [
                "\n",
                "\n"
            ]
        }
    ],
    "metadata": {
        "anaconda-cloud": "",
        "kernelspec": {
            "display_name": "R",
            "langauge": "R",
            "name": "ir"
        },
        "language_info": {
            "codemirror_mode": "r",
            "file_extension": ".r",
            "mimetype": "text/x-r-source",
            "name": "R",
            "pygments_lexer": "r",
            "version": "3.4.1"
        }
    },
    "nbformat": 4,
    "nbformat_minor": 1
}
